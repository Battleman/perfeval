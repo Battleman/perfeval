{
 "cells": [
  {
   "cell_type": "code",
   "execution_count": null,
   "metadata": {},
   "outputs": [],
   "source": [
    "import numpy as np\n",
    "%matplotlib inline\n",
    "import matplotlib.pyplot as plt\n",
    "import seaborn as sns\n",
    "import scipy as sc\n",
    "import random\n",
    "from datetime import datetime\n",
    "MAX_REQUESTS = 1e4\n",
    "print(\"imported\")\n",
    "import pandas as pd"
   ]
  },
  {
   "cell_type": "code",
   "execution_count": null,
   "metadata": {},
   "outputs": [],
   "source": [
    "from queue import Queue\n",
    "from threading import Thread\n",
    "import time\n",
    "\n",
    "\n",
    "def compute(lambda_):\n",
    "    items = []\n",
    "    def treat_job(q):\n",
    "        while True:\n",
    "            obj = q.get()\n",
    "            job, s, (t11, t12), (t21,t22) = obj\n",
    "        \n",
    "            if job == 1:\n",
    "                t11 = (datetime.utcnow()-start).total_seconds()*1000\n",
    "                sleep_time = random.lognormvariate(1.5, 0.6)/1000\n",
    "                time.sleep(sleep_time)\n",
    "                t12 = (datetime.utcnow()-start).total_seconds()*1000\n",
    "                q.put((2, s , (t11, t12), (t21, t22)))\n",
    "\n",
    "            if job == 2:\n",
    "                t21 = (datetime.utcnow()-start).total_seconds()*1000\n",
    "                sleep_time = random.uniform(0.6,1)/1000\n",
    "                time.sleep(sleep_time)\n",
    "                t22 = (datetime.utcnow()-start).total_seconds()*1000\n",
    "                items.append([s , t11, t12, t21, t22])\n",
    "\n",
    "            q.task_done()\n",
    "\n",
    "    q = Queue(maxsize=0) \n",
    "\n",
    "    worker = Thread(target=treat_job, args=(q,))\n",
    "    worker.setDaemon(True)\n",
    "    worker.start()\n",
    "    start = datetime.utcnow()\n",
    "\n",
    "    for _ in range(10**4):\n",
    "        q.put((1, (datetime.utcnow()-start).total_seconds()*1000, (0, 0), (0,0)))\n",
    "        time.sleep(random.expovariate(lambda_))\n",
    "    print(\"Done putting into queue!\")\n",
    "    q.join()\n",
    "    print(\"Queue done joining\")\n",
    "    return items"
   ]
  },
  {
   "cell_type": "code",
   "execution_count": null,
   "metadata": {},
   "outputs": [],
   "source": [
    "items = compute(80)"
   ]
  },
  {
   "cell_type": "code",
   "execution_count": null,
   "metadata": {},
   "outputs": [],
   "source": [
    "df = pd.DataFrame(items, columns = ['Start', 'T11', 'T12', 'T21', 'T22'])"
   ]
  },
  {
   "cell_type": "code",
   "execution_count": null,
   "metadata": {},
   "outputs": [],
   "source": [
    "df.head()"
   ]
  },
  {
   "cell_type": "code",
   "execution_count": null,
   "metadata": {},
   "outputs": [],
   "source": [
    "plt.figure(figsize=(15,10))\n",
    "plt.plot(df['Start'], range(10**4), label=\"Arrived\")\n",
    "plt.step(df['T22'], range(10**4),label=\"Served\")\n",
    "plt.title(\"Number of requests arrived and served\")\n",
    "plt.legend()\n",
    "plt.show()"
   ]
  },
  {
   "cell_type": "code",
   "execution_count": null,
   "metadata": {},
   "outputs": [],
   "source": [
    "plt.figure(figsize=(15,10))\n",
    "plt.step(df['Start'][100:150], range(50), label=\"Arrived\")\n",
    "plt.step(df['T22'][100:150], range(50), label=\"Served\")\n",
    "plt.title(\"Number of requests arrived and served (zoomed)\")\n",
    "plt.legend()\n",
    "plt.show()"
   ]
  },
  {
   "cell_type": "code",
   "execution_count": null,
   "metadata": {},
   "outputs": [],
   "source": [
    "interesting_times = np.sort(np.concatenate((df['Start'].values, df['T12'].values)))\n",
    "type1_in_queue = []\n",
    "type2_in_queue = []\n",
    "for t in interesting_times:\n",
    "    type_ones = df[((df['Start'] - t) < 0) & ((df['T12'] - t > 0))]\n",
    "    type_twos = df[((df['T12'] - t) < 0) & ((df['T22'] - t > 0))]\n",
    "    type1_in_queue.append(len(type_ones))\n",
    "    type2_in_queue.append(len(type_twos))"
   ]
  },
  {
   "cell_type": "code",
   "execution_count": null,
   "metadata": {},
   "outputs": [],
   "source": [
    "fig = plt.figure(figsize=(15,5))\n",
    "fig.add_subplot(2,1,1)\n",
    "plt.plot(interesting_times, type1_in_queue, c=\"C0\")\n",
    "plt.title(\"Type 1 in queue\")\n",
    "fig.add_subplot(2,1,2)\n",
    "plt.plot(interesting_times, type2_in_queue, c=\"orange\");\n",
    "plt.title(\"Type 2 in queue\")\n",
    "plt.tight_layout()"
   ]
  },
  {
   "cell_type": "markdown",
   "metadata": {},
   "source": [
    "### average response time (event average)"
   ]
  },
  {
   "cell_type": "code",
   "execution_count": null,
   "metadata": {},
   "outputs": [],
   "source": [
    "df['T2-Serv'] = df['T22']-df['T12']\n",
    "df['T1-Serv'] = df['T12']-df['Start']"
   ]
  },
  {
   "cell_type": "code",
   "execution_count": null,
   "metadata": {},
   "outputs": [],
   "source": [
    "print(\"Average for type 1: {:.5f} ms\".format(df['T1-Serv'].mean()))\n",
    "print(\"Average for type 2: {:.5f} ms\".format(df['T2-Serv'].mean()))"
   ]
  },
  {
   "cell_type": "code",
   "execution_count": null,
   "metadata": {},
   "outputs": [],
   "source": [
    "plt.bar([1,2],[df['T1-Serv'].mean(), df['T2-Serv'].mean()])"
   ]
  },
  {
   "cell_type": "markdown",
   "metadata": {},
   "source": [
    "### Average number of jobs served per second"
   ]
  },
  {
   "cell_type": "code",
   "execution_count": null,
   "metadata": {},
   "outputs": [],
   "source": [
    "served = []\n",
    "for sample_start_time in (df.values.max()-1000)*np.random.sample(50):\n",
    "    served.append(df[(df['T21'] > sample_start_time) & (df['T22'] < sample_start_time+1000)].count()['Start'])\n",
    "print(np.mean(served))"
   ]
  },
  {
   "cell_type": "code",
   "execution_count": null,
   "metadata": {},
   "outputs": [],
   "source": [
    "served = []\n",
    "for sample_start_time in (df.values.max()-1000)*np.random.sample(50):\n",
    "    served.append(df[(df['T11'] > sample_start_time) & (df['T12'] < sample_start_time+1000)].count()['Start'])\n",
    "print(np.mean(served))"
   ]
  },
  {
   "cell_type": "code",
   "execution_count": null,
   "metadata": {},
   "outputs": [],
   "source": []
  },
  {
   "cell_type": "markdown",
   "metadata": {},
   "source": [
    "# 2"
   ]
  },
  {
   "cell_type": "code",
   "execution_count": null,
   "metadata": {},
   "outputs": [],
   "source": [
    "lambdas = np.arange(25, 250, 25)\n",
    "queues = []"
   ]
  },
  {
   "cell_type": "code",
   "execution_count": null,
   "metadata": {},
   "outputs": [],
   "source": [
    "items = []\n",
    "#for l in lambdas: \n",
    "#    it = compute(l)\n",
    "#    items.append(it)"
   ]
  },
  {
   "cell_type": "code",
   "execution_count": null,
   "metadata": {},
   "outputs": [],
   "source": [
    "#for i in range(len(items)): \n",
    "#    df = pd.DataFrame(items[i], columns = ['Start', 'T11', 'T12', 'T21', 'T22'])\n",
    "#    df.to_csv(\"lambda_\"+str(25*(i+1)), index=False)"
   ]
  },
  {
   "cell_type": "markdown",
   "metadata": {},
   "source": [
    "# 3"
   ]
  },
  {
   "cell_type": "code",
   "execution_count": null,
   "metadata": {},
   "outputs": [],
   "source": []
  }
 ],
 "metadata": {
  "kernelspec": {
   "display_name": "Python 3",
   "language": "python",
   "name": "python3"
  },
  "language_info": {
   "codemirror_mode": {
    "name": "ipython",
    "version": 3
   },
   "file_extension": ".py",
   "mimetype": "text/x-python",
   "name": "python",
   "nbconvert_exporter": "python",
   "pygments_lexer": "ipython3",
   "version": "3.6.4"
  }
 },
 "nbformat": 4,
 "nbformat_minor": 2
}
