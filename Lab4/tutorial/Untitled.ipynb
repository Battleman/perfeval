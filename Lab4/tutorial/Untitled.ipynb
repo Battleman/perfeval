{
 "cells": [
  {
   "cell_type": "code",
   "execution_count": null,
   "metadata": {},
   "outputs": [],
   "source": [
    "\n",
    "import numpy as np\n",
    "%matplotlib inline\n",
    "import matplotlib.pyplot as plt\n",
    "from scipy import optimize"
   ]
  },
  {
   "cell_type": "markdown",
   "metadata": {},
   "source": [
    "# Figure 5.1 and 5.2 "
   ]
  },
  {
   "cell_type": "code",
   "execution_count": null,
   "metadata": {},
   "outputs": [],
   "source": [
    "with open(\"sprint250.txt\") as f:\n",
    "    data = f.readlines()\n",
    "    data = np.array([eval(x.strip()) for x in data])"
   ]
  },
  {
   "cell_type": "code",
   "execution_count": null,
   "metadata": {},
   "outputs": [],
   "source": [
    "plt.plot(data);"
   ]
  },
  {
   "cell_type": "code",
   "execution_count": null,
   "metadata": {},
   "outputs": [],
   "source": [
    "x_range = np.arange(250)\n",
    "X = np.array([np.ones(len(x_range)),\n",
    "              x_range,\n",
    "              x_range**2,\n",
    "              np.cos(x_range*np.pi/8),\n",
    "              np.sin(x_range*np.pi/8),\n",
    "              np.cos(x_range*np.pi/4),\n",
    "              np.sin(x_range*np.pi/4)]).T\n",
    "K = np.linalg.inv(X.T.dot(X)).dot(X.T)\n",
    "beta = K.dot(data)"
   ]
  },
  {
   "cell_type": "code",
   "execution_count": null,
   "metadata": {},
   "outputs": [],
   "source": [
    "plt.plot(x_range, X.dot(beta))\n",
    "plt.plot(data)\n",
    "plt.title(\"5.1(a)\");"
   ]
  },
  {
   "cell_type": "code",
   "execution_count": null,
   "metadata": {},
   "outputs": [],
   "source": [
    "residuals = data-X.dot(beta)\n",
    "s_2 = 1/(250-3) * np.sum(residuals**2)\n",
    "sig = np.sqrt(s_2)"
   ]
  },
  {
   "cell_type": "code",
   "execution_count": null,
   "metadata": {},
   "outputs": [],
   "source": [
    "x_1 = np.arange(205, 225)\n",
    "x_2 = np.arange(225, 250)\n",
    "x = np.arange(205, 250)\n",
    "plt.plot(x_2, X[225:250].dot(beta)) # blue == predict\n",
    "plt.plot(x_2, data[225:], 'o-', c='orange') # == orange dotter\n",
    "plt.plot(x, data[205:], c='orange'); # == orange flat\n",
    "\n",
    "plt.plot(x_2, X[225:250].dot(beta)+1.96*sig, '--')\n",
    "plt.plot(x_2, X[225:250].dot(beta)-1.96*sig, '--')\n",
    "plt.title(\"5.1(b)\");"
   ]
  },
  {
   "cell_type": "code",
   "execution_count": null,
   "metadata": {},
   "outputs": [],
   "source": []
  },
  {
   "cell_type": "markdown",
   "metadata": {},
   "source": [
    "# FIGURE 5.7 (a)-(c)"
   ]
  },
  {
   "cell_type": "code",
   "execution_count": null,
   "metadata": {},
   "outputs": [],
   "source": [
    "known_ids = range(224)"
   ]
  },
  {
   "cell_type": "code",
   "execution_count": null,
   "metadata": {},
   "outputs": [],
   "source": []
  }
 ],
 "metadata": {
  "kernelspec": {
   "display_name": "PerfEval",
   "language": "python",
   "name": "perfeval"
  },
  "language_info": {
   "codemirror_mode": {
    "name": "ipython",
    "version": 3
   },
   "file_extension": ".py",
   "mimetype": "text/x-python",
   "name": "python",
   "nbconvert_exporter": "python",
   "pygments_lexer": "ipython3",
   "version": "3.6.8"
  }
 },
 "nbformat": 4,
 "nbformat_minor": 2
}
